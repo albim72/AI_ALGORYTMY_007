{
  "nbformat": 4,
  "nbformat_minor": 0,
  "metadata": {
    "colab": {
      "provenance": []
    },
    "kernelspec": {
      "name": "python3",
      "display_name": "Python 3"
    },
    "language_info": {
      "name": "python"
    }
  },
  "cells": [
    {
      "cell_type": "code",
      "execution_count": 1,
      "metadata": {
        "id": "6u-examCfacu"
      },
      "outputs": [],
      "source": [
        "import numpy as np\n",
        "import tensorflow as tf\n",
        "from tensorflow.keras.preprocessing.text import Tokenizer\n",
        "from tensorflow.keras.preprocessing.sequence import pad_sequences\n",
        "import matplotlib.pyplot as plt\n",
        "from sklearn.metrics import confusion_matrix, ConfusionMatrixDisplay"
      ]
    },
    {
      "cell_type": "code",
      "source": [
        "texts = [\n",
        "    \"Jestem bardzo zły na tę sytuację.\",          # 0 złość\n",
        "    \"To mnie wkurza do granic możliwości.\",       # 0 złość\n",
        "    \"Jestem spokojny, nie czuję emocji.\",         # 3 neutral\n",
        "    \"Dzisiaj czuję się szczęśliwy!\",              # 2 radość\n",
        "    \"Czuję się przygnębiony i smutny.\",           # 1 smutek\n",
        "    \"Nic mnie dzisiaj nie rusza.\",                # 3 neutral\n",
        "    \"Ogromna radość mnie rozpiera!\",              # 2 radość\n",
        "    \"Mam dość, jestem wściekły!\",                 # 0 złość\n",
        "    \"Wszystko jest w porządku.\",                  # 3 neutral\n",
        "    \"Dzień minął mi bardzo dobrze.\",              # 2 radość\n",
        "    \"Jest mi przykro z tego powodu.\",             # 1 smutek\n",
        "    \"Straciłem motywację do działania.\",          # 1 smutek\n",
        "    \"Nie mam na nic ochoty.\",                     # 1 smutek\n",
        "    \"Uśmiecham się cały dzień.\",                  # 2 radość\n",
        "    \"Czuję się po prostu normalnie.\",             # 3 neutral\n",
        "    \"Wkurza mnie taka bezsilność.\",               # 0 złość\n",
        "    \"Jestem bardzo wdzięczny za pomoc.\",          # 2 radość\n",
        "    \"Nic specjalnego się nie dzieje.\",            # 3 neutral\n",
        "    \"Jestem rozczarowany.\",                       # 1 smutek\n",
        "    \"Chciałbym wybuchnąć ze złości.\",             # 0 złość\n",
        "]\n",
        "labels = [0,0,3,2,1,3,2,0,3,2,1,1,1,2,3,0,2,3,1,0]"
      ],
      "metadata": {
        "id": "8LjWhVkyffek"
      },
      "execution_count": 2,
      "outputs": []
    },
    {
      "cell_type": "code",
      "source": [
        "# Mapowanie etykiet\n",
        "emotion_map = {0: \"złość\", 1: \"smutek\", 2: \"radość\", 3: \"neutral\"}\n"
      ],
      "metadata": {
        "id": "Rfx6eubBfvwF"
      },
      "execution_count": 3,
      "outputs": []
    },
    {
      "cell_type": "code",
      "source": [
        "# 2. Przetwarzanie tekstu\n",
        "vocab_size = 1000\n",
        "max_length = 20\n",
        "oov_tok = \"<OOV>\"\n",
        "\n",
        "tokenizer = Tokenizer(num_words=vocab_size, oov_token=oov_tok, lower=True)\n",
        "tokenizer.fit_on_texts(texts)\n",
        "sequences = tokenizer.texts_to_sequences(texts)\n",
        "padded = pad_sequences(sequences, maxlen=max_length, padding='post', truncating='post')"
      ],
      "metadata": {
        "id": "hbiu78bLfw-z"
      },
      "execution_count": 4,
      "outputs": []
    },
    {
      "cell_type": "code",
      "source": [
        "# Podział na train/test\n",
        "train_size = int(0.75 * len(texts))\n",
        "X_train, X_test = padded[:train_size], padded[train_size:]\n",
        "y_train, y_test = np.array(labels[:train_size]), np.array(labels[train_size:])"
      ],
      "metadata": {
        "id": "rfCls5-bf9DC"
      },
      "execution_count": 5,
      "outputs": []
    },
    {
      "cell_type": "code",
      "source": [
        "# 3. Model TensorFlow\n",
        "model = tf.keras.Sequential([\n",
        "    tf.keras.layers.Embedding(input_dim=vocab_size, output_dim=16, input_length=max_length),\n",
        "    tf.keras.layers.GlobalAveragePooling1D(),\n",
        "    tf.keras.layers.Dense(16, activation='relu'),\n",
        "    tf.keras.layers.Dense(4, activation='softmax')\n",
        "])\n",
        "\n",
        "model.compile(loss='sparse_categorical_crossentropy', optimizer='adam', metrics=['accuracy'])"
      ],
      "metadata": {
        "colab": {
          "base_uri": "https://localhost:8080/"
        },
        "id": "vICuYPexgBRn",
        "outputId": "6853cc34-d753-473c-a996-4e09d91d557d"
      },
      "execution_count": 6,
      "outputs": [
        {
          "output_type": "stream",
          "name": "stderr",
          "text": [
            "/usr/local/lib/python3.11/dist-packages/keras/src/layers/core/embedding.py:90: UserWarning: Argument `input_length` is deprecated. Just remove it.\n",
            "  warnings.warn(\n"
          ]
        }
      ]
    },
    {
      "cell_type": "code",
      "source": [
        "# 4. Trening\n",
        "history = model.fit(X_train, y_train, epochs=40, validation_data=(X_test, y_test), verbose=2)"
      ],
      "metadata": {
        "colab": {
          "base_uri": "https://localhost:8080/"
        },
        "id": "oiOwJHrAgLn0",
        "outputId": "7efb5c7e-aa55-4e7c-d5ca-831d9352674c"
      },
      "execution_count": 7,
      "outputs": [
        {
          "output_type": "stream",
          "name": "stdout",
          "text": [
            "Epoch 1/40\n",
            "1/1 - 2s - 2s/step - accuracy: 0.2667 - loss: 1.3863 - val_accuracy: 0.2000 - val_loss: 1.3886\n",
            "Epoch 2/40\n",
            "1/1 - 0s - 85ms/step - accuracy: 0.2667 - loss: 1.3855 - val_accuracy: 0.2000 - val_loss: 1.3891\n",
            "Epoch 3/40\n",
            "1/1 - 0s - 85ms/step - accuracy: 0.2667 - loss: 1.3849 - val_accuracy: 0.2000 - val_loss: 1.3898\n",
            "Epoch 4/40\n",
            "1/1 - 0s - 84ms/step - accuracy: 0.2667 - loss: 1.3844 - val_accuracy: 0.2000 - val_loss: 1.3904\n",
            "Epoch 5/40\n",
            "1/1 - 0s - 138ms/step - accuracy: 0.2667 - loss: 1.3839 - val_accuracy: 0.2000 - val_loss: 1.3910\n",
            "Epoch 6/40\n",
            "1/1 - 0s - 82ms/step - accuracy: 0.2667 - loss: 1.3834 - val_accuracy: 0.2000 - val_loss: 1.3917\n",
            "Epoch 7/40\n",
            "1/1 - 0s - 140ms/step - accuracy: 0.2667 - loss: 1.3829 - val_accuracy: 0.2000 - val_loss: 1.3924\n",
            "Epoch 8/40\n",
            "1/1 - 0s - 82ms/step - accuracy: 0.2667 - loss: 1.3824 - val_accuracy: 0.2000 - val_loss: 1.3930\n",
            "Epoch 9/40\n",
            "1/1 - 0s - 83ms/step - accuracy: 0.2667 - loss: 1.3819 - val_accuracy: 0.2000 - val_loss: 1.3933\n",
            "Epoch 10/40\n",
            "1/1 - 0s - 99ms/step - accuracy: 0.2667 - loss: 1.3811 - val_accuracy: 0.2000 - val_loss: 1.3942\n",
            "Epoch 11/40\n",
            "1/1 - 0s - 84ms/step - accuracy: 0.2667 - loss: 1.3800 - val_accuracy: 0.2000 - val_loss: 1.3953\n",
            "Epoch 12/40\n",
            "1/1 - 0s - 137ms/step - accuracy: 0.2667 - loss: 1.3792 - val_accuracy: 0.2000 - val_loss: 1.3964\n",
            "Epoch 13/40\n",
            "1/1 - 0s - 83ms/step - accuracy: 0.2667 - loss: 1.3785 - val_accuracy: 0.2000 - val_loss: 1.3975\n",
            "Epoch 14/40\n",
            "1/1 - 0s - 137ms/step - accuracy: 0.2667 - loss: 1.3777 - val_accuracy: 0.2000 - val_loss: 1.3985\n",
            "Epoch 15/40\n",
            "1/1 - 0s - 146ms/step - accuracy: 0.2667 - loss: 1.3770 - val_accuracy: 0.2000 - val_loss: 1.3996\n",
            "Epoch 16/40\n",
            "1/1 - 0s - 89ms/step - accuracy: 0.2667 - loss: 1.3763 - val_accuracy: 0.2000 - val_loss: 1.4006\n",
            "Epoch 17/40\n",
            "1/1 - 0s - 137ms/step - accuracy: 0.2667 - loss: 1.3755 - val_accuracy: 0.2000 - val_loss: 1.4015\n",
            "Epoch 18/40\n",
            "1/1 - 0s - 84ms/step - accuracy: 0.2667 - loss: 1.3748 - val_accuracy: 0.2000 - val_loss: 1.4025\n",
            "Epoch 19/40\n",
            "1/1 - 0s - 96ms/step - accuracy: 0.2667 - loss: 1.3741 - val_accuracy: 0.2000 - val_loss: 1.4034\n",
            "Epoch 20/40\n",
            "1/1 - 0s - 84ms/step - accuracy: 0.2667 - loss: 1.3734 - val_accuracy: 0.2000 - val_loss: 1.4043\n",
            "Epoch 21/40\n",
            "1/1 - 0s - 80ms/step - accuracy: 0.2667 - loss: 1.3726 - val_accuracy: 0.2000 - val_loss: 1.4052\n",
            "Epoch 22/40\n",
            "1/1 - 0s - 108ms/step - accuracy: 0.2667 - loss: 1.3719 - val_accuracy: 0.2000 - val_loss: 1.4060\n",
            "Epoch 23/40\n",
            "1/1 - 0s - 82ms/step - accuracy: 0.2667 - loss: 1.3711 - val_accuracy: 0.2000 - val_loss: 1.4068\n",
            "Epoch 24/40\n",
            "1/1 - 0s - 136ms/step - accuracy: 0.2667 - loss: 1.3703 - val_accuracy: 0.2000 - val_loss: 1.4076\n",
            "Epoch 25/40\n",
            "1/1 - 0s - 141ms/step - accuracy: 0.2667 - loss: 1.3696 - val_accuracy: 0.2000 - val_loss: 1.4084\n",
            "Epoch 26/40\n",
            "1/1 - 0s - 139ms/step - accuracy: 0.2667 - loss: 1.3688 - val_accuracy: 0.2000 - val_loss: 1.4090\n",
            "Epoch 27/40\n",
            "1/1 - 0s - 136ms/step - accuracy: 0.2667 - loss: 1.3679 - val_accuracy: 0.2000 - val_loss: 1.4096\n",
            "Epoch 28/40\n",
            "1/1 - 0s - 139ms/step - accuracy: 0.2667 - loss: 1.3670 - val_accuracy: 0.2000 - val_loss: 1.4102\n",
            "Epoch 29/40\n",
            "1/1 - 0s - 84ms/step - accuracy: 0.2667 - loss: 1.3661 - val_accuracy: 0.2000 - val_loss: 1.4106\n",
            "Epoch 30/40\n",
            "1/1 - 0s - 137ms/step - accuracy: 0.2667 - loss: 1.3653 - val_accuracy: 0.2000 - val_loss: 1.4110\n",
            "Epoch 31/40\n",
            "1/1 - 0s - 80ms/step - accuracy: 0.2667 - loss: 1.3643 - val_accuracy: 0.2000 - val_loss: 1.4115\n",
            "Epoch 32/40\n",
            "1/1 - 0s - 87ms/step - accuracy: 0.2667 - loss: 1.3632 - val_accuracy: 0.2000 - val_loss: 1.4121\n",
            "Epoch 33/40\n",
            "1/1 - 0s - 86ms/step - accuracy: 0.2667 - loss: 1.3621 - val_accuracy: 0.2000 - val_loss: 1.4128\n",
            "Epoch 34/40\n",
            "1/1 - 0s - 82ms/step - accuracy: 0.2667 - loss: 1.3610 - val_accuracy: 0.2000 - val_loss: 1.4135\n",
            "Epoch 35/40\n",
            "1/1 - 0s - 136ms/step - accuracy: 0.2667 - loss: 1.3600 - val_accuracy: 0.2000 - val_loss: 1.4141\n",
            "Epoch 36/40\n",
            "1/1 - 0s - 138ms/step - accuracy: 0.2667 - loss: 1.3590 - val_accuracy: 0.2000 - val_loss: 1.4147\n",
            "Epoch 37/40\n",
            "1/1 - 0s - 102ms/step - accuracy: 0.2667 - loss: 1.3580 - val_accuracy: 0.2000 - val_loss: 1.4152\n",
            "Epoch 38/40\n",
            "1/1 - 0s - 121ms/step - accuracy: 0.2667 - loss: 1.3570 - val_accuracy: 0.2000 - val_loss: 1.4157\n",
            "Epoch 39/40\n",
            "1/1 - 0s - 136ms/step - accuracy: 0.2667 - loss: 1.3559 - val_accuracy: 0.2000 - val_loss: 1.4162\n",
            "Epoch 40/40\n",
            "1/1 - 0s - 81ms/step - accuracy: 0.2667 - loss: 1.3548 - val_accuracy: 0.2000 - val_loss: 1.4166\n"
          ]
        }
      ]
    },
    {
      "cell_type": "code",
      "source": [
        "# 5. Heurystyka decyzyjna\n",
        "def heuristic_action(predicted_class, confidence):\n",
        "    if predicted_class == 0 and confidence > 0.8:\n",
        "        return \"Wyślij ostrzeżenie – silna złość!\"\n",
        "    elif predicted_class == 2 and confidence > 0.8:\n",
        "        return \"Odpowiedz z wdzięcznością – pozytywny ton.\"\n",
        "    else:\n",
        "        return \"Brak reakcji / loguj do dziennika.\""
      ],
      "metadata": {
        "id": "JJpSPZqGgUWj"
      },
      "execution_count": 8,
      "outputs": []
    },
    {
      "cell_type": "code",
      "source": [
        "# 6. Predykcja i heurystyka\n",
        "pred_probs = model.predict(X_test)\n",
        "pred_classes = np.argmax(pred_probs, axis=1)\n",
        "confidences = np.max(pred_probs, axis=1)\n",
        "\n",
        "for i, text in enumerate(texts[train_size:]):\n",
        "    print(f\"Tekst: {text}\")\n",
        "    print(f\"Emocja przewidywana: {emotion_map[pred_classes[i]]}, Pewność: {confidences[i]:.2f}\")\n",
        "    print(f\"Reakcja heurystyczna: {heuristic_action(pred_classes[i], confidences[i])}\")\n",
        "    print('-'*40)\n"
      ],
      "metadata": {
        "colab": {
          "base_uri": "https://localhost:8080/"
        },
        "id": "qS6s8DbwgbST",
        "outputId": "d0a3d4fd-73f1-47a0-a8ff-af1d22bc1ab2"
      },
      "execution_count": 9,
      "outputs": [
        {
          "output_type": "stream",
          "name": "stdout",
          "text": [
            "\u001b[1m1/1\u001b[0m \u001b[32m━━━━━━━━━━━━━━━━━━━━\u001b[0m\u001b[37m\u001b[0m \u001b[1m0s\u001b[0m 124ms/step\n",
            "Tekst: Wkurza mnie taka bezsilność.\n",
            "Emocja przewidywana: neutral, Pewność: 0.28\n",
            "Reakcja heurystyczna: Brak reakcji / loguj do dziennika.\n",
            "----------------------------------------\n",
            "Tekst: Jestem bardzo wdzięczny za pomoc.\n",
            "Emocja przewidywana: neutral, Pewność: 0.28\n",
            "Reakcja heurystyczna: Brak reakcji / loguj do dziennika.\n",
            "----------------------------------------\n",
            "Tekst: Nic specjalnego się nie dzieje.\n",
            "Emocja przewidywana: neutral, Pewność: 0.28\n",
            "Reakcja heurystyczna: Brak reakcji / loguj do dziennika.\n",
            "----------------------------------------\n",
            "Tekst: Jestem rozczarowany.\n",
            "Emocja przewidywana: neutral, Pewność: 0.28\n",
            "Reakcja heurystyczna: Brak reakcji / loguj do dziennika.\n",
            "----------------------------------------\n",
            "Tekst: Chciałbym wybuchnąć ze złości.\n",
            "Emocja przewidywana: neutral, Pewność: 0.28\n",
            "Reakcja heurystyczna: Brak reakcji / loguj do dziennika.\n",
            "----------------------------------------\n"
          ]
        }
      ]
    },
    {
      "cell_type": "code",
      "source": [
        "# 7. Wizualizacja rozkładu emocji (test real vs pred)\n",
        "plt.figure(figsize=(8,4))\n",
        "true_counts = np.bincount(y_test, minlength=4)\n",
        "pred_counts = np.bincount(pred_classes, minlength=4)\n",
        "x = np.arange(4)\n",
        "plt.bar(x-0.15, true_counts, width=0.3, label=\"Prawdziwe\")\n",
        "plt.bar(x+0.15, pred_counts, width=0.3, label=\"Przewidywane\")\n",
        "plt.xticks(x, [emotion_map[i] for i in x])\n",
        "plt.ylabel(\"Liczba przykładów\")\n",
        "plt.title(\"Rozkład emocji w zbiorze testowym\")\n",
        "plt.legend()\n",
        "plt.tight_layout()\n",
        "plt.show()\n"
      ],
      "metadata": {
        "colab": {
          "base_uri": "https://localhost:8080/",
          "height": 407
        },
        "id": "UAN_yAfCgqHG",
        "outputId": "0bf4309f-12c3-4249-e6fc-d2dd1d4c74d1"
      },
      "execution_count": 10,
      "outputs": [
        {
          "output_type": "display_data",
          "data": {
            "text/plain": [
              "<Figure size 800x400 with 1 Axes>"
            ],
            "image/png": "[encoded data removed]"
          },
          "metadata": {}
        }
      ]
    },
    {
      "cell_type": "code",
      "source": [
        "# 8. Confusion matrix\n",
        "cm = confusion_matrix(y_test, pred_classes)\n",
        "disp = ConfusionMatrixDisplay(confusion_matrix=cm, display_labels=[emotion_map[i] for i in range(4)])\n",
        "disp.plot(cmap=plt.cm.Blues)\n",
        "plt.title(\"Macierz pomyłek – zbiór testowy\")\n",
        "plt.show()"
      ],
      "metadata": {
        "colab": {
          "base_uri": "https://localhost:8080/",
          "height": 472
        },
        "id": "UX_I7O7-g3cL",
        "outputId": "dc53813e-bf09-42e7-9cef-76fa951c0c4c"
      },
      "execution_count": 11,
      "outputs": [
        {
          "output_type": "display_data",
          "data": {
            "text/plain": [
              "<Figure size 640x480 with 2 Axes>"
            ],
            "image/png": "[encoded data removed]"
          },
          "metadata": {}
        }
      ]
    },
    {
      "cell_type": "code",
      "source": [
        "# 9. Przykład analizy emergencji (dla chętnych)\n",
        "# Spróbujmy tekstu \"Super, aż się chce śmiać przez łzy.\" (ambiwalentny)\n",
        "test_sentence = [\"Super, aż się chce śmiać przez łzy.\"]\n",
        "seq = tokenizer.texts_to_sequences(test_sentence)\n",
        "pad = pad_sequences(seq, maxlen=max_length, padding='post', truncating='post')\n",
        "pred = model.predict(pad)\n",
        "pred_class = np.argmax(pred)\n",
        "print(f\"Emergencja? Tekst: {test_sentence[0]}\")\n",
        "print(f\"Predykcja: {emotion_map[pred_class]}, Pewność: {np.max(pred):.2f}\")\n",
        "# Jeśli model wyczuwa ambiwalencję (radość, smutek lub neutralność) – jest to cecha emergentna!\n"
      ],
      "metadata": {
        "colab": {
          "base_uri": "https://localhost:8080/"
        },
        "id": "aGFFNuAwhAkZ",
        "outputId": "3dd88517-8e0e-4267-8394-b47ee6060203"
      },
      "execution_count": 12,
      "outputs": [
        {
          "output_type": "stream",
          "name": "stdout",
          "text": [
            "\u001b[1m1/1\u001b[0m \u001b[32m━━━━━━━━━━━━━━━━━━━━\u001b[0m\u001b[37m\u001b[0m \u001b[1m0s\u001b[0m 84ms/step\n",
            "Emergencja? Tekst: Super, aż się chce śmiać przez łzy.\n",
            "Predykcja: neutral, Pewność: 0.28\n"
          ]
        }
      ]
    }
  ]
}