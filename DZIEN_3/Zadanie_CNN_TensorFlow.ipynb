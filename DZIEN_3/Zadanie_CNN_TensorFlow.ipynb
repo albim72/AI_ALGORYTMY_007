{
 "cells": [
  {
   "cell_type": "markdown",
   "id": "6f3de7b4",
   "metadata": {},
   "source": [
    "\n",
    "# Klasyfikacja obrazów z użyciem sieci konwolucyjnej (CNN) w TensorFlow\n",
    "\n",
    "**Autor:** Marcin Albiniak (EXE.EDU)  \n",
    "**Opis:** Kompletny pipeline: przygotowanie danych, budowa modelu CNN, trening, zapis wag, wizualizacja efektów klasyfikacji, predykcja na nieznanych obrazach.  \n",
    "**Zbiór danych:** MNIST (można łatwo zmienić na CIFAR-10/własny).\n",
    "\n",
    "**Wymagania:**  \n",
    "`tensorflow`, `matplotlib`, `numpy`, `scikit-learn`, `seaborn`\n"
   ]
  },
  {
   "cell_type": "code",
   "execution_count": null,
   "id": "5ba2569d",
   "metadata": {},
   "outputs": [],
   "source": [
    "\n",
    "import numpy as np\n",
    "import tensorflow as tf\n",
    "import matplotlib.pyplot as plt\n",
    "from tensorflow.keras import layers, models\n",
    "from sklearn.metrics import confusion_matrix, accuracy_score\n",
    "import seaborn as sns\n"
   ]
  },
  {
   "cell_type": "markdown",
   "id": "11f1fa52",
   "metadata": {},
   "source": [
    "## 1. Przygotowanie danych"
   ]
  },
  {
   "cell_type": "code",
   "execution_count": null,
   "id": "cd9a0dd1",
   "metadata": {},
   "outputs": [],
   "source": [
    "\n",
    "# Wczytujemy przykładowy zbiór MNIST (obrazy cyfr 28x28, 10 klas)\n",
    "(x_train, y_train), (x_test, y_test) = tf.keras.datasets.mnist.load_data()\n",
    "x_train, x_test = x_train / 255.0, x_test / 255.0  # Normalizacja do [0,1]\n",
    "x_train = x_train[..., np.newaxis]\n",
    "x_test = x_test[..., np.newaxis]\n",
    "\n",
    "# Podział na train/val/test\n",
    "val_size = 5000\n",
    "x_val = x_train[-val_size:]\n",
    "y_val = y_train[-val_size:]\n",
    "x_train = x_train[:-val_size]\n",
    "y_train = y_train[:-val_size]\n",
    "\n",
    "# Prosta eksploracja danych\n",
    "plt.figure(figsize=(10, 2))\n",
    "for i in range(10):\n",
    "    plt.subplot(1, 10, i+1)\n",
    "    plt.imshow(x_train[i].squeeze(), cmap=\"gray\")\n",
    "    plt.title(str(y_train[i]))\n",
    "    plt.axis(\"off\")\n",
    "plt.suptitle(\"Przykładowe obrazy ze zbioru treningowego\")\n",
    "plt.show()\n"
   ]
  },
  {
   "cell_type": "markdown",
   "id": "05e74693",
   "metadata": {},
   "source": [
    "## 2. Budowa modelu CNN"
   ]
  },
  {
   "cell_type": "code",
   "execution_count": null,
   "id": "4add84cf",
   "metadata": {},
   "outputs": [],
   "source": [
    "\n",
    "model = models.Sequential([\n",
    "    layers.Conv2D(32, (3,3), activation='relu', input_shape=(28,28,1)),\n",
    "    layers.MaxPooling2D((2,2)),\n",
    "    layers.Conv2D(64, (3,3), activation='relu'),\n",
    "    layers.MaxPooling2D((2,2)),\n",
    "    layers.Dropout(0.25),\n",
    "    layers.Flatten(),\n",
    "    layers.Dense(64, activation='relu'),\n",
    "    layers.Dense(10, activation='softmax')\n",
    "])\n",
    "model.summary()\n"
   ]
  },
  {
   "cell_type": "markdown",
   "id": "3d3ee47c",
   "metadata": {},
   "source": [
    "## 3. Trening i zapis wag"
   ]
  },
  {
   "cell_type": "code",
   "execution_count": null,
   "id": "46514bf6",
   "metadata": {},
   "outputs": [],
   "source": [
    "\n",
    "model.compile(optimizer='adam',\n",
    "              loss='sparse_categorical_crossentropy',\n",
    "              metrics=['accuracy'])\n",
    "\n",
    "history = model.fit(\n",
    "    x_train, y_train,\n",
    "    epochs=7,\n",
    "    batch_size=128,\n",
    "    validation_data=(x_val, y_val)\n",
    ")\n",
    "\n",
    "# Zapis wyuczonych wag modelu\n",
    "model.save('mnist_cnn_model.h5')\n"
   ]
  },
  {
   "cell_type": "markdown",
   "id": "6c86cf14",
   "metadata": {},
   "source": [
    "## 4. Ewaluacja i wizualizacja efektów klasyfikacji"
   ]
  },
  {
   "cell_type": "code",
   "execution_count": null,
   "id": "a0178882",
   "metadata": {},
   "outputs": [],
   "source": [
    "\n",
    "test_loss, test_acc = model.evaluate(x_test, y_test, verbose=0)\n",
    "print(f\"Test accuracy: {test_acc:.4f}\")\n",
    "\n",
    "# Wizualizacja wyników na fragmencie testowym\n",
    "y_pred = np.argmax(model.predict(x_test[:30]), axis=1)\n",
    "\n",
    "plt.figure(figsize=(15, 4))\n",
    "for i in range(30):\n",
    "    plt.subplot(3, 10, i+1)\n",
    "    plt.imshow(x_test[i].squeeze(), cmap=\"gray\")\n",
    "    color = \"green\" if y_pred[i] == y_test[i] else \"red\"\n",
    "    plt.title(f\"GT:{y_test[i]}\n",
    "P:{y_pred[i]}\", color=color)\n",
    "    plt.axis(\"off\")\n",
    "plt.suptitle(\"Wyniki predykcji: zielony=poprawnie, czerwony=błędnie\")\n",
    "plt.show()\n"
   ]
  },
  {
   "cell_type": "markdown",
   "id": "041a0f3f",
   "metadata": {},
   "source": [
    "## 5. Predykcja na nieznanych obrazach"
   ]
  },
  {
   "cell_type": "code",
   "execution_count": null,
   "id": "b1be08cd",
   "metadata": {},
   "outputs": [],
   "source": [
    "\n",
    "# Przygotuj własny obraz (28x28, grayscale), tu demo na szumie\n",
    "unknown_imgs = np.random.rand(3, 28, 28, 1)\n",
    "unknown_preds = np.argmax(model.predict(unknown_imgs), axis=1)\n",
    "\n",
    "plt.figure(figsize=(10, 2))\n",
    "for i in range(3):\n",
    "    plt.subplot(1, 3, i+1)\n",
    "    plt.imshow(unknown_imgs[i].squeeze(), cmap=\"gray\")\n",
    "    plt.title(f\"Przewidziana klasa: {unknown_preds[i]}\")\n",
    "    plt.axis(\"off\")\n",
    "plt.suptitle(\"Predykcja na nieznanych obrazach (przykład/demo)\")\n",
    "plt.show()\n"
   ]
  },
  {
   "cell_type": "markdown",
   "id": "cb7d04b4",
   "metadata": {},
   "source": [
    "## 6. Metryki: accuracy, confusion matrix"
   ]
  },
  {
   "cell_type": "code",
   "execution_count": null,
   "id": "3aaf7710",
   "metadata": {},
   "outputs": [],
   "source": [
    "\n",
    "y_test_pred = np.argmax(model.predict(x_test), axis=1)\n",
    "acc = accuracy_score(y_test, y_test_pred)\n",
    "cm = confusion_matrix(y_test, y_test_pred)\n",
    "print(f\"Accuracy (test): {acc:.4f}\")\n",
    "\n",
    "plt.figure(figsize=(8,6))\n",
    "sns.heatmap(cm, annot=True, fmt='d', cmap='Blues')\n",
    "plt.xlabel(\"Przewidziana klasa\")\n",
    "plt.ylabel(\"Prawdziwa klasa\")\n",
    "plt.title(\"Macierz pomyłek (Confusion Matrix)\")\n",
    "plt.show()\n"
   ]
  },
  {
   "cell_type": "markdown",
   "id": "f5af52d7",
   "metadata": {},
   "source": [
    "## 7. Wizualizacja feature maps (aktywacji) po pierwszej Conv2D"
   ]
  },
  {
   "cell_type": "code",
   "execution_count": null,
   "id": "31a36b33",
   "metadata": {},
   "outputs": [],
   "source": [
    "\n",
    "activation_model = models.Model(inputs=model.input, outputs=model.layers[0].output)\n",
    "activations = activation_model.predict(x_test[:1])  # pierwszy obraz testowy\n",
    "\n",
    "plt.figure(figsize=(10, 4))\n",
    "for i in range(activations.shape[-1]):\n",
    "    plt.subplot(4, 8, i+1)\n",
    "    plt.imshow(activations[0, :, :, i], cmap=\"viridis\")\n",
    "    plt.axis(\"off\")\n",
    "plt.suptitle(\"Feature maps po 1. Conv2D\")\n",
    "plt.show()\n"
   ]
  }
 ],
 "metadata": {},
 "nbformat": 4,
 "nbformat_minor": 5
}
